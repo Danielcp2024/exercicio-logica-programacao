{
  "nbformat": 4,
  "nbformat_minor": 0,
  "metadata": {
    "colab": {
      "provenance": [],
      "authorship_tag": "ABX9TyN44zMbN+hf/1ZMCuawPNHv",
      "include_colab_link": true
    },
    "kernelspec": {
      "name": "python3",
      "display_name": "Python 3"
    },
    "language_info": {
      "name": "python"
    }
  },
  "cells": [
    {
      "cell_type": "markdown",
      "metadata": {
        "id": "view-in-github",
        "colab_type": "text"
      },
      "source": [
        "<a href=\"https://colab.research.google.com/github/Danielcp2024/exercicio-logica-programacao/blob/main/calculadora_1.ipynb\" target=\"_parent\"><img src=\"https://colab.research.google.com/assets/colab-badge.svg\" alt=\"Open In Colab\"/></a>"
      ]
    },
    {
      "cell_type": "code",
      "source": [
        "def calculadora():\n",
        "    print(\"Bem-vindo à calculadora!\")\n",
        "  # Exibir as opções de operações\n",
        "    print(\"1. Adição\")\n",
        "    print(\"2. Subtração\")\n",
        "    print(\"3. Multiplicação\")\n",
        "    print(\"4. Divisão\")\n",
        "    print(\"5. Sair\")\n",
        "    while True:\n",
        "       # Receber a escolha do usuário\n",
        "       escolha = input(\"Digite sua escolha (1/2/3/4/5):\")\n",
        "       if escolha == '5':\n",
        "           print(\"Saindo...\")\n",
        "           break\n",
        "\n",
        "       # Recebendo os números com input para aceitar números decimais\n",
        "       num1 = int(input(\"Digite o primeiro número:\"))\n",
        "       num2 = int(input(\"Digite o segundo número:\"))\n",
        "\n",
        "       # Verifique a operação escolhida\n",
        "       if escolha == '1':\n",
        "         print(f\"Resutado:{num1}+{num2}={num1+num2}\")\n",
        "       elif escolha == '2':\n",
        "         print(f\"Resutado:{num1}-{num2}={num1-num2}\")\n",
        "       elif escolha == '3':\n",
        "        print(f\"Resutado:{num1}*{num2}={num1*num2}\")\n",
        "       elif escolha == '4':\n",
        "            if num2 != 0:\n",
        "                print(f\"Resutado:{num1}/{num2}={num1/num2}\")\n",
        "            else:\n",
        "               print(\"Escolha inválida\")\n",
        "if __name__==\"__main__\":\n",
        "         calculadora()"
      ],
      "metadata": {
        "id": "yRnWB__LOws4",
        "colab": {
          "base_uri": "https://localhost:8080/"
        },
        "outputId": "02435d98-4ce4-4660-aed1-2a9f3ca36fb4"
      },
      "execution_count": 11,
      "outputs": [
        {
          "output_type": "stream",
          "name": "stdout",
          "text": [
            "Bem-vindo à calculadora!\n",
            "1. Adição\n",
            "2. Subtração\n",
            "3. Multiplicação\n",
            "4. Divisão\n",
            "5. Sair\n",
            "Digite sua escolha (1/2/3/4/5):2\n",
            "Digite o primeiro número:5\n",
            "Digite o segundo número:5\n",
            "Resutado:5-5=0\n",
            "Digite sua escolha (1/2/3/4/5):1\n",
            "Digite o primeiro número:6\n",
            "Digite o segundo número:8\n",
            "Resutado:6+8=14\n",
            "Digite sua escolha (1/2/3/4/5):5\n",
            "Saindo...\n"
          ]
        }
      ]
    }
  ]
}
